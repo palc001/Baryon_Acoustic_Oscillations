{
 "cells": [
  {
   "cell_type": "code",
   "execution_count": 1,
   "metadata": {},
   "outputs": [],
   "source": [
    "#Getting redshift data\n",
    "\n",
    "import pandas as pd\n",
    "\n",
    "data = pd.read_csv(\"Skyserver_SQL12_3_2019 6_20_09AM.csv\")\n",
    "objclass = data[\"class\"]\n",
    "objredshift = data[\"redshift\"]\n",
    "objra = data[\"ra\"]\n",
    "objdec = data[\"dec\"]\n",
    "\n",
    "zarr1 = [] #1 denotes redshifts 0.1 to 0.2\n",
    "ra1 = []\n",
    "dec1 = []\n",
    "for i in range(len(objclass)):\n",
    "    if ((objclass[i] == \"GALAXY\") and (0.1 <= objredshift[i] < 0.2) and (110 <= objra[i] <= 270) and (-5 <= objdec[i] <= 70)):\n",
    "        zarr1.append(float(objredshift[i]))\n",
    "        ra1.append(float(objra[i]))\n",
    "        dec1.append(float(objdec[i]))"
   ]
  },
  {
   "cell_type": "code",
   "execution_count": 12,
   "metadata": {},
   "outputs": [
    {
     "name": "stderr",
     "output_type": "stream",
     "text": [
      "C:\\Anaconda2\\lib\\site-packages\\ipykernel_launcher.py:52: RuntimeWarning: divide by zero encountered in double_scalars\n"
     ]
    }
   ],
   "source": [
    "#Distance between galaxies using approximations in paper\n",
    "\n",
    "import numpy as np\n",
    "import matplotlib.pyplot as plt\n",
    "import scipy.integrate as integrate\n",
    "from scipy.constants import c\n",
    "\n",
    "H0 = 100.\n",
    "z_c = 3.79\n",
    "Om, Or, Od, Ok = 0.275, 0., 0.725, 0.\n",
    "\n",
    "def Ez(z_):\n",
    "    E = (1. - z/z_c) * np.exp(-z/z_c)\n",
    "    return 1./E\n",
    "\n",
    "def comodis(z): #comoving distance\n",
    "    return z*np.exp(-z/z_c)\n",
    "\n",
    "def d_calc(z1, z2, alpha): #Eqn (3)\n",
    "    chiz1 = comodis(z1)\n",
    "    chiz2 = comodis(z2)\n",
    "    chimul = chiz1 * chiz2\n",
    "    d_z = abs(chiz1 - chiz2)\n",
    "    d_alpha = 2.* np.sin(alpha/2.) * np.sqrt(chimul) * (1. + 1./6 * Ok * chimul)\n",
    "    d = np.sqrt(d_alpha**2. + d_z**2.)\n",
    "    dprime = c/H0 * d\n",
    "    darr = [d_alpha, d_z, d]\n",
    "    return (darr, dprime)\n",
    "\n",
    "#Binning of \"d\"\n",
    "binspace = 0.0005\n",
    "dbins = np.arange(0.01, 0.06, binspace)\n",
    "#dhist1, dhist2, dhist3 = {}, {}, {}\n",
    "dhist11, dhist22, dhist33 = [], [], []\n",
    "'''\n",
    "for i in range(len(dbins)):\n",
    "    dhist1[dbins[i]+binspace/2.] = 0\n",
    "    dhist2[dbins[i]+binspace/2.] = 0\n",
    "    dhist3[dbins[i]+binspace/2.] = 0\n",
    "'''\n",
    "\n",
    "def d_hist(z1, z2, alpha):\n",
    "    dval = d_calc(z1, z2, alpha)\n",
    "    if (dval[0][1]/dval[0][0] < 1./3):\n",
    "        dhist11.append(dval[0][2])\n",
    "        '''\n",
    "        for i in range(len(dbins)-1):\n",
    "            if (dbins[i] <= dval[0][2] < dbins[i+1]):\n",
    "                dhist1[dbins[i]+binspace/2.] += 1\n",
    "                continue\n",
    "        '''\n",
    "    if (dval[0][0]/dval[0][1] < 1./3):\n",
    "        dhist22.append(dval[0][2])\n",
    "    else:\n",
    "        dhist33.append(dval[0][2])\n",
    "\n",
    "#zarr = np.linspace(0.1, 0.7, 1000)\n",
    "#alphaarr = np.linspace(np.pi/30., np.pi/40., 1000)\n",
    "zarr = zarr1[:5000]\n",
    "for i in range(len(zarr)):\n",
    "    for j in range(len(zarr)):\n",
    "        if (i == j): continue\n",
    "        z1, z2 = zarr[i], zarr[j]\n",
    "        alpha = np.sqrt(((ra1[i]-ra1[j])*np.cos(dec1[j]))**2. + (dec1[i]-dec1[j])**2.)\n",
    "        if (alpha > 1.01): continue\n",
    "        d_hist(z1, z2, alpha)"
   ]
  },
  {
   "cell_type": "code",
   "execution_count": 13,
   "metadata": {},
   "outputs": [
    {
     "data": {
      "image/png": "[encoded data removed]",
      "text/plain": [
       "<Figure size 1080x576 with 3 Axes>"
      ]
     },
     "metadata": {
      "needs_background": "light"
     },
     "output_type": "display_data"
    }
   ],
   "source": [
    "counts11, bins1 = np.histogram(dhist11, dbins)\n",
    "#plt.hist(bins[:-1], bins, weights=counts*(0.033/bins)**2.)\n",
    "counts33, bins3 = np.histogram(dhist33, dbins)\n",
    "\n",
    "fig = plt.figure(figsize = [15, 8])\n",
    "ax1 = fig.add_subplot(221)\n",
    "ax2 = fig.add_subplot(222)\n",
    "ax3 = fig.add_subplot(223)\n",
    "#ax1.hist(dhist11, dbins, histtype='step')\n",
    "#ax1.hist(bins1[:-1], bins1, weights=counts11*(0.033/bins1[:-1])**2., histtype='step')\n",
    "ax1.plot(bins1[:-1], counts11*(0.033/bins1[:-1])**2., '+')\n",
    "ax1.set_title(r'$d_\\alpha$')\n",
    "ax1.set_xlim([0.02, 0.05])\n",
    "ax2.hist(dhist22, dbins, histtype='step')\n",
    "ax2.set_title(r'$d_z$')\n",
    "#ax3.hist(dhist33, dbins, histtype='step')\n",
    "ax3.hist(bins3[:-1], bins3, weights=counts33*(0.033/bins3[:-1])**2., histtype='step')\n",
    "ax3.set_title(r'$d_/$')\n",
    "ax3.set_xlim([0.02, 0.05])\n",
    "fig.show()"
   ]
  },
  {
   "cell_type": "code",
   "execution_count": null,
   "metadata": {},
   "outputs": [],
   "source": []
  }
 ],
 "metadata": {
  "kernelspec": {
   "display_name": "Python 2",
   "language": "python",
   "name": "python2"
  },
  "language_info": {
   "codemirror_mode": {
    "name": "ipython",
    "version": 2
   },
   "file_extension": ".py",
   "mimetype": "text/x-python",
   "name": "python",
   "nbconvert_exporter": "python",
   "pygments_lexer": "ipython2",
   "version": "2.7.17"
  }
 },
 "nbformat": 4,
 "nbformat_minor": 2
}
