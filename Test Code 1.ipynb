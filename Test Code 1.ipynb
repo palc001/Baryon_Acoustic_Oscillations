{
 "cells": [
  {
   "cell_type": "code",
   "execution_count": 91,
   "metadata": {},
   "outputs": [
    {
     "name": "stdout",
     "output_type": "stream",
     "text": [
      "([0.04030507745414585, 0.024327327797838083, 0.047077788248474056], 141135.65856213553)\n"
     ]
    }
   ],
   "source": [
    "#Distance between galaxies using scipy.integrate\n",
    "\n",
    "import numpy as np\n",
    "import scipy.integrate as integrate\n",
    "from scipy.constants import c\n",
    "\n",
    "H0 = 100.\n",
    "Om, Or, Od, Ok = 0.275, 0., 0.725, 0.\n",
    "\n",
    "def Ez(z_):\n",
    "    a = 1./(1.+z_)\n",
    "    E = np.sqrt(Om/a**3. + Or/a**4. + Od + Ok/a**2.)\n",
    "    return E\n",
    "\n",
    "chif = lambda z: 1./Ez(z)\n",
    "\n",
    "def comodis(z): #comoving distance\n",
    "    return integrate.quad(chif, 0., z)\n",
    "\n",
    "def d_prime(z1, z2): #Eqn (3)\n",
    "    chiz1 = comodis(z1)\n",
    "    chiz2 = comodis(z2)\n",
    "    chimul = chiz1[0] * chiz2[0]\n",
    "    d_z = abs(chiz1[0] - chiz2[0])\n",
    "    d_alpha = 2.* np.sin(alpha/2.) * np.sqrt(chimul) * (1. + 1./6 * Ok * chimul)\n",
    "    d = np.sqrt(d_alpha**2. + d_z**2.)\n",
    "    dprime = c/H0 * d\n",
    "    darr = [d_alpha, d_z, d]\n",
    "    return darr, dprime\n",
    "\n",
    "z1, z2 = 0.41, 0.44\n",
    "alpha = np.pi/30.\n",
    "\n",
    "print d_prime(z1, z2)"
   ]
  },
  {
   "cell_type": "code",
   "execution_count": 92,
   "metadata": {},
   "outputs": [
    {
     "name": "stdout",
     "output_type": "stream",
     "text": [
      "([0.03727100828663128, 0.024193506876216242, 0.04443482681041595], 133212.25950298898)\n"
     ]
    }
   ],
   "source": [
    "#Distance between galaxies using simpson's rule for numerical integration.\n",
    "\n",
    "import numpy as np\n",
    "import scipy.integrate as integrate\n",
    "from scipy.constants import c\n",
    "\n",
    "H0 = 100.\n",
    "Om, Or, Od, Ok = 0.275, 0., 0.725, 0.\n",
    "\n",
    "def Ez(z_):\n",
    "    a = 1./(1.+z_)\n",
    "    E = np.sqrt(Om/a**3. + Or/a**4. + Od + Ok/a**2.)\n",
    "    return E\n",
    "\n",
    "def comodis(z): #comoving distance\n",
    "    n = 1000\n",
    "    a = np.zeros(n+1)\n",
    "    h = z/float(n)\n",
    "    a[0] = 1.\n",
    "    f1, f2 = 0., 0.\n",
    "    for i in range(1, n+1):\n",
    "        a[i] = float(i) * h\n",
    "    for i in range(1, n/2):\n",
    "        z1 = a[2*i]\n",
    "        f1 = f1 + 1./Ez(z1)\n",
    "    for i in range(1, n/2+1):\n",
    "        z1 = a[2*i-1]\n",
    "        f2 = f2 + 1./Ez(z2)\n",
    "    f3 = 1./Ez(z)\n",
    "    integral = h/3. * (a[0] + 2.*f1 + 4.*f2 + f3)\n",
    "    return integral\n",
    "\n",
    "def d_prime(z1, z2): #Eqn (3)\n",
    "    chiz1 = comodis(z1)\n",
    "    chiz2 = comodis(z2)\n",
    "    chimul = chiz1 * chiz2\n",
    "    d_z = abs(chiz1 - chiz2)\n",
    "    d_alpha = 2.* np.sin(alpha/2.) * np.sqrt(chimul) * (1. + 1./6 * Ok * chimul)\n",
    "    d = np.sqrt(d_alpha**2. + d_z**2.)\n",
    "    dprime = c/H0 * d\n",
    "    darr = [d_alpha, d_z, d]\n",
    "    return darr, dprime\n",
    "\n",
    "z1, z2 = 0.41, 0.44\n",
    "alpha = np.pi/30.\n",
    "\n",
    "print d_prime(z1, z2)"
   ]
  },
  {
   "cell_type": "code",
   "execution_count": 81,
   "metadata": {},
   "outputs": [
    {
     "data": {
      "image/png": "[encoded data removed]",
      "text/plain": [
       "<Figure size 1080x576 with 3 Axes>"
      ]
     },
     "metadata": {
      "needs_background": "light"
     },
     "output_type": "display_data"
    }
   ],
   "source": [
    "#Distance between galaxies using approximations in paper\n",
    "\n",
    "import numpy as np\n",
    "import matplotlib.pyplot as plt\n",
    "import scipy.integrate as integrate\n",
    "from scipy.constants import c\n",
    "\n",
    "H0 = 100.\n",
    "z_c = 3.79\n",
    "Om, Or, Od, Ok = 0.275, 0., 0.725, 0.\n",
    "\n",
    "def Ez(z_):\n",
    "    E = (1. - z/z_c) * np.exp(-z/z_c)\n",
    "    return 1./E\n",
    "\n",
    "def comodis(z): #comoving distance\n",
    "    return z*np.exp(-z/z_c)\n",
    "\n",
    "def d_calc(z1, z2, alpha): #Eqn (3)\n",
    "    chiz1 = comodis(z1)\n",
    "    chiz2 = comodis(z2)\n",
    "    chimul = chiz1 * chiz2\n",
    "    d_z = abs(chiz1 - chiz2)\n",
    "    d_alpha = 2.* np.sin(alpha/2.) * np.sqrt(chimul) * (1. + 1./6 * Ok * chimul)\n",
    "    d = np.sqrt(d_alpha**2. + d_z**2.)\n",
    "    dprime = c/H0 * d\n",
    "    darr = [d_alpha, d_z, d]\n",
    "    return (darr, dprime)\n",
    "\n",
    "#Binning of \"d\"\n",
    "binspace = 0.00025\n",
    "dbins = np.arange(0.01, 0.06, binspace)\n",
    "#dhist1, dhist2, dhist3 = {}, {}, {}\n",
    "dhist11, dhist22, dhist33 = [], [], []\n",
    "'''\n",
    "for i in range(len(dbins)):\n",
    "    dhist1[dbins[i]+binspace/2.] = 0\n",
    "    dhist2[dbins[i]+binspace/2.] = 0\n",
    "    dhist3[dbins[i]+binspace/2.] = 0\n",
    "'''\n",
    "\n",
    "def d_hist(z1, z2, alpha):\n",
    "    dval = d_calc(z1, z2, alpha)\n",
    "    if (dval[0][1]/dval[0][0] < 1./3):\n",
    "        dhist11.append(dval[0][2])\n",
    "        '''\n",
    "        for i in range(len(dbins)-1):\n",
    "            if (dbins[i] <= dval[0][2] < dbins[i+1]):\n",
    "                dhist1[dbins[i]+binspace/2.] += 1\n",
    "                continue\n",
    "        '''\n",
    "    if (dval[0][0]/dval[0][1] < 1./3):\n",
    "        dhist22.append(dval[0][2])\n",
    "    else:\n",
    "        dhist33.append(dval[0][2])\n",
    "\n",
    "zarr = np.linspace(0.1, 0.7, 1000)\n",
    "alphaarr = np.linspace(np.pi/30., np.pi/40., 1000)\n",
    "for i in range(len(zarr)):\n",
    "    for j in range(len(zarr)):\n",
    "        if (i == j): continue\n",
    "        z1, z2 = zarr[i], zarr[j]\n",
    "        alpha = alphaarr[i]\n",
    "        d_hist(z1, z2, alpha)\n",
    "\n",
    "fig = plt.figure(figsize = [15, 8])\n",
    "ax1 = fig.add_subplot(221)\n",
    "ax2 = fig.add_subplot(222)\n",
    "ax3 = fig.add_subplot(223)\n",
    "ax1.hist(dhist11, dbins, histtype='step')\n",
    "ax1.set_title(r'$d_\\alpha$')\n",
    "ax2.hist(dhist22, dbins, histtype='step')\n",
    "ax2.set_title(r'$d_z$')\n",
    "ax3.hist(dhist33, dbins, histtype='step')\n",
    "ax3.set_title(r'$d_/$')\n",
    "fig.show()"
   ]
  }
 ],
 "metadata": {
  "celltoolbar": "Slideshow",
  "kernelspec": {
   "display_name": "Python 2",
   "language": "python",
   "name": "python2"
  },
  "language_info": {
   "codemirror_mode": {
    "name": "ipython",
    "version": 2
   },
   "file_extension": ".py",
   "mimetype": "text/x-python",
   "name": "python",
   "nbconvert_exporter": "python",
   "pygments_lexer": "ipython2",
   "version": "2.7.17"
  }
 },
 "nbformat": 4,
 "nbformat_minor": 2
}
